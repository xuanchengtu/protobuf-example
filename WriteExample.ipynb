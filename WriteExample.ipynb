{
 "cells": [
  {
   "cell_type": "code",
   "execution_count": 1,
   "id": "d6135aae",
   "metadata": {},
   "outputs": [],
   "source": [
    "import example_pb2"
   ]
  },
  {
   "cell_type": "code",
   "execution_count": 2,
   "id": "2514fa41",
   "metadata": {},
   "outputs": [],
   "source": [
    "example = example_pb2.Example()"
   ]
  },
  {
   "cell_type": "code",
   "execution_count": 3,
   "id": "834ec1b4",
   "metadata": {},
   "outputs": [],
   "source": [
    "example.id = 1\n",
    "example.i = 66\n",
    "example.d = 3.14\n",
    "\n"
   ]
  },
  {
   "cell_type": "code",
   "execution_count": 5,
   "id": "7bd745a9",
   "metadata": {},
   "outputs": [],
   "source": [
    "nested = example_pb2.Example.Nested()"
   ]
  },
  {
   "cell_type": "code",
   "execution_count": 8,
   "id": "3cd6c5a4",
   "metadata": {},
   "outputs": [],
   "source": [
    "nested.id = 999\n",
    "nested.e = example_pb2.Example.E3"
   ]
  },
  {
   "cell_type": "code",
   "execution_count": 9,
   "id": "9e5e0a30",
   "metadata": {},
   "outputs": [],
   "source": [
    "example.r.append(nested)"
   ]
  },
  {
   "cell_type": "code",
   "execution_count": 10,
   "id": "3a4fc1a1",
   "metadata": {},
   "outputs": [],
   "source": [
    "nested2 = example_pb2.Example.Nested()\n",
    "nested2.id = 998\n",
    "nested2.e = example_pb2.Example.E2"
   ]
  },
  {
   "cell_type": "code",
   "execution_count": 11,
   "id": "eba6cd42",
   "metadata": {},
   "outputs": [],
   "source": [
    "example.r.append(nested2)"
   ]
  },
  {
   "cell_type": "code",
   "execution_count": 12,
   "id": "4e70eb8d",
   "metadata": {},
   "outputs": [],
   "source": [
    "f = open(\"examplefile.txt\",\"wb\")\n",
    "f.write(example.SerializeToString())\n",
    "f.close()"
   ]
  }
 ],
 "metadata": {
  "kernelspec": {
   "display_name": "Python 3 (ipykernel)",
   "language": "python",
   "name": "python3"
  },
  "language_info": {
   "codemirror_mode": {
    "name": "ipython",
    "version": 3
   },
   "file_extension": ".py",
   "mimetype": "text/x-python",
   "name": "python",
   "nbconvert_exporter": "python",
   "pygments_lexer": "ipython3",
   "version": "3.10.4"
  }
 },
 "nbformat": 4,
 "nbformat_minor": 5
}
